{
 "cells": [
  {
   "cell_type": "code",
   "execution_count": 11,
   "id": "d7cc189e",
   "metadata": {},
   "outputs": [
    {
     "ename": "IndentationError",
     "evalue": "unexpected indent (126488195.py, line 8)",
     "output_type": "error",
     "traceback": [
      "\u001b[1;36m  Cell \u001b[1;32mIn [11], line 8\u001b[1;36m\u001b[0m\n\u001b[1;33m    sqrt_val = math.sqrt(abs(dis_form))\u001b[0m\n\u001b[1;37m    ^\u001b[0m\n\u001b[1;31mIndentationError\u001b[0m\u001b[1;31m:\u001b[0m unexpected indent\n"
     ]
    }
   ],
   "source": [
    "import math\n",
    "\n",
    "a = int(input())\n",
    "b = int(input())\n",
    "c = int(input())\n",
    "\n",
    "dis_form = b * b - 4 * a * c \n",
    "    sqrt_val = math.sqrt(abs(dis_form)) \n",
    " \n",
    " \n",
    "if dis_form > 0: \n",
    "        print(\" real and different roots \") \n",
    "        print((-b + sqrt_val) /(2 * a)) \n",
    "        print((-b - sqrt_val) /(2 * a)) \n",
    "\n",
    "        elif dis_form == 0: \n",
    "            print(\" real and same roots\") \n",
    "            print(-b /(2 * a)) \n",
    "        else: \n",
    "            print(\"Complex Roots\") \n",
    "            print(- b /(2 * a), \" + i\", sqrt_val) \n",
    "            print(- b /(2 * a), \" - i\", sqrt_val) "
   ]
  }
 ],
 "metadata": {
  "kernelspec": {
   "display_name": "Python 3 (ipykernel)",
   "language": "python",
   "name": "python3"
  },
  "language_info": {
   "codemirror_mode": {
    "name": "ipython",
    "version": 3
   },
   "file_extension": ".py",
   "mimetype": "text/x-python",
   "name": "python",
   "nbconvert_exporter": "python",
   "pygments_lexer": "ipython3",
   "version": "3.9.13"
  }
 },
 "nbformat": 4,
 "nbformat_minor": 5
}
